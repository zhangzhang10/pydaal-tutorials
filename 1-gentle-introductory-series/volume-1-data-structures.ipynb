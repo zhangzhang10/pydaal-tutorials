{
 "cells": [
  {
   "cell_type": "markdown",
   "metadata": {
    "raw_mimetype": "text/markdown"
   },
   "source": [
    "# Gentle Introduction to PyDAAL: Vol 1 of 3 Data Structures\n"
   ]
  },
  {
   "cell_type": "markdown",
   "metadata": {
    "collapsed": true
   },
   "source": [
    "<div  style=\"text-align: justify\"> The Intel® Data Analytics Acceleration Library (Intel® DAAL) is written on Intel® architecture optimized building blocks and includes support for all data analytics stages. Data-driven decision making is empowered by Intel® DAAL with foundations for data acquisition, preprocessing, transformation, data mining, modeling and validation. Python users can access these foundations with the Python API for Intel® DAAL (named PyDAAL). Machine learning with Python gets an injection of power with PyDAAL, accessed via a simple scripting API. Furthermore, PyDAAL provides the unique capability to easily extend Python scripted batch analytics to online (streaming) data acquisition and/or distributed math processing. To achieve best performance on a range of Intel® processors, Intel® DAAL uses optimized algorithms from the Intel® Math Kernel Library and Intel® Integrated Performance Primitives. Intel® DAAL provides APIs for C++, JAVA, and Python. In this Gentle Introduction series, we will cover the basics of PyDAAL from the ground up. The first installment will introduce Intel® DAAL’s custom data structure, Numeric Table, and data management in the world of PyDAAL.</div>\n"
   ]
  },
  {
   "cell_type": "markdown",
   "metadata": {},
   "source": [
    "## Volumes in Gentle Introduction Series"
   ]
  },
  {
   "cell_type": "markdown",
   "metadata": {},
   "source": [
    "•\t**Vol 1: Data Structures** - Covers introduction to  Data Management component of Intel® DAAL and available custom Data Structures(Numeric Table and Data Dictionary) with code examples.<br>\n",
    "•\t**[Vol 2: Basic Operations on Numeric Tables](volume-2-basic-operations-on-numeric-tables.ipynb)** - Covers introduction to possible operations that can be performed on Intel® DAAL's custom Data Structure (Numeric Table and Data Dictionary) with code examples.<br>\n",
    "•\t**[Vol 3: Analytics Model Building and Deployment](volume-3-analytics-model-building-deployment.ipynb)** – Covers introduction to analytics model building and evaluation in Intel® DAAL with serialized deployment and distributed model fitting on large datasets.<br>\n"
   ]
  },
  {
   "cell_type": "markdown",
   "metadata": {},
   "source": [
    "## 1.\tIntroduction to PyDaal Data Management"
   ]
  },
  {
   "cell_type": "markdown",
   "metadata": {},
   "source": [
    "Intel DAAL supports the following ways of processing data:\n",
    "* Batch processing\n",
    "* Online processing\n",
    "* Distributed processing\n",
    "* Complex processing (combination of online and distributed processing)\n",
    "\n",
    "This document’s primary focus will be on **batch processing**. Online and distributed data management will be discussed in subsequent volumes in the Gentle Introduction series.\n",
    "\n",
    "\n",
    "### Programming Considerations: <br>\n",
    "\n",
    "<div  style=\"text-align: justify\">**Strong Typing:** Python scripting heavily utilizes the concept of dynamic (duck) typing, relying on Python’s interpreter to infer type at run time. However, this practice can cause problems when memory footprint requires attention, or when mixed code is deployed. The PyDAAL API calls libraries written in C++ and assembly language, forcing a mixed code environment on the user. Thus, PyDAAL requires consistent typing, conveniently supporting numpy types “np.float32”, “np.float64”, and “np.intc”. Static/Strong typing not only allows explicit declaration of datatypes for optimal memory management but also enforces a type check during compiling, significantly reducing run time.<br><br>\n",
    "\n",
    "**Memory Access Patterns:** Multidimensional arrays are stored as contiguous data in memory. These memory segments can be used to arrange array elements. One possible way to store these elements is one row vector after another called “row major”. Of course, an equally valid approach in storing columns one-after-another, known as “column major”. These two data layout patterns are both supported by Intel DAAL’s numeric table data structure and should be chosen based on expected memory access patterns of the program being written. The former is default in C programming and Intel DAAL’s standard numeric table. The latter is default in Fortran programming and is achieved with Intel DAAL’s Structure of Array’s (SOA) numeric table.</div><br>\n",
    "\n",
    "**Note:**Numpy has the **ascontiguousarray ()** method for converting a numpy array to row-major storage in memory. Furthermore, PyDAAL will attempt to convert any passed input array to contiguous automatically.<br><br>\n",
    "<div  style=\"text-align: justify\">\n",
    "**SWIG Interface Objects:** An important component of Intel® DAAL is SWIG, which is a simplified wrapper and interface generator for C/C++ programs. [Wikipedia_information_on_SWIG](https://en.wikipedia.org/wiki/SWIG). PyDaal uses SWIG, enabling python scripting control of the DAAL C++ libraries. An important note is this allows PyDaal to in effect, escape the python’s global interpreter lock (GIL) and dispatch processing/threading with compiled C++ code. INTEL’s PyDaal API team has exposed DAAL’s C++ member functions to the python user as familiar class methods, visible in Python’s convenient interactive console through the dir(DAAL_object) call.<br> </div>\n",
    "\n",
    "### Data Structure Overview and Flow: <br>\n",
    "\n",
    "<div  style=\"text-align: justify\">**Numeric Table:** The primary data structure utilized by Intel DAAL is a Numeric Table. Raw data is streamed into the numeric table structure, and stored in-memory for further access to construct analytics model and fit machine learning algorithms. An Intel DAAL numeric table defines a tabular view of a data set where rows represent observations and columns represent features in-memory. Numeric data presented in the numeric table is accessed through numeric table interface.</div>\n",
    "\n",
    "**DAAL Components and Data Flow:**\n",
    "\n",
    "![title](./_notebook-related-files/DataFlow.png)\n",
    "\n",
    "\n",
    "## 2. Numeric Tables:\n",
    "   ### 2.1 Types of Numeric Tables:<br>\n",
    "   \n",
    "<div  style=\"text-align: justify\">Numeric Tables can be constructed on the basis of data type and storage preferences: Initialization preferences can be branched out into data types and data layout.</div>\n",
    "\n",
    "* Data Types: Intel DAAL supports 3 dtypes during numeric table creation: intc(C identical Int32/64), float32, float64.\n",
    "\n",
    "*NOTE: In numpy, these dtypes are called “np.float32”, “np.float64”, and “np.intc”*.\n",
    "\n",
    "* Data Layout: Dense matrix data can be laid out according to row/column major access, depending on desired access pattern. Also, sparse and triangular matrices can be wisely represented to create smaller memory footprint.</div>\n",
    "\n",
    "Below are the types of Numeric Tables that Intel DAAL supports: homogeneous, heterogeneous and memory saving numeric tables for dense and sparse data\n",
    "\n",
    "![title](./_notebook-related-files/HomogenTable_1.png)\n",
    "\n",
    "![title](./_notebook-related-files/HeterogenTable_1.png)\n",
    "\n",
    "![title](./_notebook-related-files/HeterogenTable_2.png)"
   ]
  },
  {
   "cell_type": "markdown",
   "metadata": {},
   "source": [
    "### 2.2 Numeric table Initializations Reference (more details for each included in following sections)\n",
    "\n",
    "**Homogenous Numeric Table:**\n",
    "\n",
    "|dtype| Class Name | Alias\n",
    "|:-:|:-:|:-:\n",
    "|intc | HomogenNumericTable(ndarray, ntype = intc) | HomogenNumericTable_Intc(numpy_array)\n",
    "|float32|HomogenNumericTable(ndarray, ntype = float32)|HomogenNumericTable_Float64(numpy_array)\n",
    "\n",
    "\n",
    "**Heterogeneous Numeric Table:**\n",
    "\n",
    "* Array of Structures: heterogen_AOS_nT = AOSNumericTable(ndarray)\n",
    "* Structure of Arrays: heterogen_SOA_nT = SOANumericTable(nRows, nColumns) \n",
    "\n",
    "**Memory Saving Numeric Table:**\n",
    "\n",
    "* Condensed Sparse Matrix:\n",
    " homogenCSR_nT = CSRNumericTable(values, colIndices, rowOffsets, nFeatures, nObservations)\n",
    "\n",
    "* [Packed Matrix](#PackedMatrix)"
   ]
  },
  {
   "cell_type": "markdown",
   "metadata": {},
   "source": [
    "## 2.3 Loading Data into various types of Numeric Table:<br>\n",
    "\n",
    "<div  style=\"text-align: justify\">As mentioned earlier, PyDAAL is a strongly-typed library. Intel DAAL’s math has efficient handling of data with common (homogeneous) typing, and separate handling for data of mixed (heterogeneous) types. To this end, Intel DAAL’s numeric tables have multiple flavors to store and serve data in both typing conditions, as well as memory-saving versions for sparse matrices.</div> \n",
    "\n",
    "### 2.3.1 Homogeneous Numeric Table and Different ways of loading data:<br>\n",
    "\n",
    "<div  style=\"text-align: justify\">Homogeneous numeric tables are Intel DAAL's data structure for storing features that are of the same basic data type. Values of the features are laid out in memory as one contiguous block in row-major order, that is, Observation 1, Observation 2, and so on. While creating the numeric table, Intel DAAL creates a data dictionary that stores assignments of feature type (Continuous, Ordinal, and Categorical) and can be accessed at any time to modify the assignments. Below are some code snippets written to help demonstrate creation of numeric tables using *Numpy Array*, *Pandas DataFrame* and PyDAAL’s *FileDataSource* (csv loading) class as inputArray </div>"
   ]
  },
  {
   "cell_type": "markdown",
   "metadata": {},
   "source": [
    "#### i. Data load and numeric table creation through Numpy Array:<br>\n",
    "\n",
    "<div  style=\"text-align: justify\">PyDAAL supports direct and easy integration with Numpy. The Below code snippet creates HomogenNumericTable from Numpy array.<br><br>\n",
    "\n",
    "\n",
    "*Note: The 3 dtypes supported by numeric table creation are float32, float64, and intc. When an integer numpy array is created without declaring the dtype, Python infers the dtype and defaults integers to int32 instead of C identical int32/int64. Hence when creating an integer type numeric table, it is mandatory to declare dtype (np.intc) during initialization of the input numpy array.*</div>\n",
    "\n",
    "![title](./_notebook-related-files/HomogenArray.png)\n"
   ]
  },
  {
   "cell_type": "code",
   "execution_count": null,
   "metadata": {
    "collapsed": true
   },
   "outputs": [],
   "source": [
    "'''\n",
    "**RUN THE FOLLOWING CODE SNIPPET (REPRODUCING RIGHT SIDE COLUMN OF THE ABOVE TABLE )**\n",
    "'''\n",
    "\n",
    "import numpy as np\n",
    "\n",
    "array = np.array([[0.5, -1.3],\n",
    "                  [2.5, -3.3],\n",
    "                  [4.5, -5.3],\n",
    "                  [6.5, -7.3],\n",
    "                  [8.5, -9.3]],\n",
    "                   dtype = np.float32)\n",
    "\n",
    "# import Available Modules for Homogen numeric table\n",
    "from daal.data_management import HomogenNumericTable\n",
    "\n",
    "nT = HomogenNumericTable(array, ntype = np.float32)\n",
    "print(nT)\n"
   ]
  },
  {
   "cell_type": "markdown",
   "metadata": {},
   "source": [
    "#### ii.\tData load and numeric table creation through Pandas DataFrame:\n",
    "\n",
    "<div  style=\"text-align: justify\">Pandas is a widely used library to prepare and manipulate datasets in spreadsheet form. Its ease-of-use and overall breadth have made the library seemingly ubiquitous in Python machine learning work.PyDAAL fully supports data input from Pandas DataFrames, both as homogeneous (through intermediate Numpy array) or heterogeneous (directly from DataFrame). See SOA dedicated section for details on the heterogeneous numeric table creation.</div><br>\n",
    "\n",
    "\n",
    "![title](./_notebook-related-files/HomogenPandas.png)\n"
   ]
  },
  {
   "cell_type": "code",
   "execution_count": null,
   "metadata": {
    "collapsed": true
   },
   "outputs": [],
   "source": [
    "'''\n",
    "**RUN THE FOLLOWING CODE SNIPPET (REPRODUCING RIGHT SIDE COLUMN OF THE ABOVE TABLE )**\n",
    "'''\n",
    "\n",
    "import pandas as pd\n",
    "import numpy as np\n",
    "\n",
    "#Initialize the columns with values\n",
    "Col1 = [1,2,3,4,5]\n",
    "Col2 = [6,7,8,9,10]\n",
    "# Create a pandas DataFrame of dtype integer\n",
    "df_int = pd.DataFrame({'Col1':Col1, \n",
    "                       'Col2':Col2},\n",
    "                       dtype=np.intc)\n",
    "\n",
    "array = df_int.as_matrix()\n",
    "\n",
    "from daal.data_management import(HomogenNumericTable)\n",
    "\n",
    "nT  = HomogenNumericTable(array, \n",
    "                     ntype = np.intc)\n",
    "print(nT)"
   ]
  },
  {
   "cell_type": "markdown",
   "metadata": {},
   "source": [
    "#### iii.\t Data load and numeric table creation through CSV file:\n",
    "\n",
    "<div  style=\"text-align: justify\">One of the prominent features offered by Pandas is to read data from a CSV file and load them up into a DataFrame for use in Machine Learning algorithms. Intel DAAL provides a class “FileDataSource” that can be leveraged to behave similar to the way pandas operates to read a csv file. PyDAAL’s FileDataSource creates an empty data source object and loads preferred blocks of rows from a csv file using Intel DAAL’s CSVFeatureManager class, followed by getNumericTable() method to create a numeric table. Currently only float64 dtype is available when using FileDataSource.</div> <br>\n",
    "\n",
    "\n",
    "![title](./_notebook-related-files/HomogenCSV.png)"
   ]
  },
  {
   "cell_type": "code",
   "execution_count": null,
   "metadata": {
    "collapsed": true
   },
   "outputs": [],
   "source": [
    "\n",
    "'''\n",
    "**RUN THE FOLLOWING CODE SNIPPET (REPRODUCING RIGHT SIDE COLUMN OF THE ABOVE TABLE )**\n",
    "'''\n",
    "\n",
    "from daal.data_management import(FileDataSource, DataSource) \n",
    "\n",
    "\n",
    "dataSource = FileDataSource(\n",
    "    r'./_notebook-related-files\\SampleBatchFile.csv', DataSource.doAllocateNumericTable, DataSource.doDictionaryFromContext)\n",
    "\n",
    "dataSource.loadDataBlock(30) # load first 30 rows\n",
    "\n",
    "#dataSource.loadDataBlock() to load all rows\n",
    "\n",
    "nT  = dataSource.getNumericTable()\n",
    "print(nT)\n"
   ]
  },
  {
   "cell_type": "markdown",
   "metadata": {},
   "source": [
    "### 2.3.2\tHeterogeneous numeric Table and different ways of loading data<br>\n",
    "\n",
    "<div  style=\"text-align: justify\">Python is dynamically typed and capable of inferring dtype during run time if explicitly not declared. Often, memory footprint consideration becomes an oversight due to this “duck” typing. As datasets grow large, explicit declaration of dtypes becomes beneficial as memory usage is of major concern – a key functionality supported by PyDAALAPIs connecting with C++ libraries.\n",
    "When columns of incoming data contain different numeric data types (intc, float, or double) it becomes necessary to declare dtypes on respective columns in order to reduce memory footprint. Intel DAAL’s Heterogeneous numeric table delivers the capability of declaring dtypes on individual columns of the array, hence saving significant memory through static typing. AOSNumericTable (Array of Structures) and SOANumericTable (Structure of Arrays) are the 2 Heterogeneous structures available in the current version of PyDAAL.</div>\n",
    "\n",
    "#### a.\tIntroduction to Memory Layout Patterns and AOSNumericTable/SOANumericTable \n",
    "\n",
    "<div  style=\"text-align: justify\">Depending on access patterns, a practitioner can choose to layout a dataset in memory in row-major or column-major form. The resultant data structures are called Array of Structures (AOS) and Structure of Arrays (SOA), respectively. If downstream access is likely to be row by row (sequential observations), then AOS is the best layout choice. If column by column access (sequential features) is required, then SOA should be the better choice.</div>\n",
    "Below is a straight forward representation to visualize the difference between an AOS and SOA data structure:\n",
    "\n",
    "##### Example Incoming Data: \n",
    "\n",
    "![title](./_notebook-related-files/ExampleIncomingData.png)\n",
    "\n",
    "##### Memory Layout: AOS (Array of Structures):\n",
    "\n",
    "![title](./_notebook-related-files/AOS_DataLayout.png)\n",
    "\n",
    "##### Memory Layout: SOA (Structures of Array):\n",
    "\n",
    "![title](./_notebook-related-files/SOA_DataLayout.png)\n",
    "\n",
    "#### b.\tAOSNumericTable (Array of Structures data structure):\n",
    "\n",
    "If desired data access is along row major and input data features have heterogeneous dtypes, DAAL’s AOSNumericTable provides corresponding memory pattern for faster access. It does so by allocating contiguous memory on “observations”. Below are code snippets to illustrate creation of AOSNumericTable table using *Numpy Array, Pandas* and *FileDataSource* class of PyDaal.\n",
    "\n"
   ]
  },
  {
   "cell_type": "markdown",
   "metadata": {},
   "source": [
    "##### i.\tData load and numeric table creation through Numpy Array:\n",
    "\n",
    "Unlike Intel DAAL’s HomogenNumericTable, AOSNumericTable is created with a 1D Numpy array having tuples of elements with declared dtypes on each tuple. Each tuple is a complete row of the dataset. The resulting shape of the input Numpy array is therefore (nRows,).\n",
    "\n",
    "![title](./_notebook-related-files/AOS_Array.png)"
   ]
  },
  {
   "cell_type": "code",
   "execution_count": null,
   "metadata": {
    "collapsed": true
   },
   "outputs": [],
   "source": [
    "'''\n",
    "**RUN THE FOLLOWING CODE SNIPPET (REPRODUCING RIGHT SIDE COLUMN OF THE ABOVE TABLE )**\n",
    "'''\n",
    "\n",
    "import numpy as np\n",
    "\n",
    "from daal.data_management import(AOSNumericTable) \n",
    "\n",
    "array = np.array([(0.5, -1.3, 1), \n",
    "                  (4.5, -5.3, 2),\n",
    "                  (6.5, -7.3, 0)],\n",
    "                  dtype=[('x', np.float32), \n",
    "                         ('categ',np.intc), \n",
    "                         ('value',np.float64)])\n",
    "\n",
    "\n",
    "nT  = AOSNumericTable(array)\n",
    "print(nT)\n"
   ]
  },
  {
   "cell_type": "markdown",
   "metadata": {},
   "source": [
    "##### ii.\tData load and numeric table creation through Pandas DataFrame:\n",
    "![title](./_notebook-related-files/AOS_Pandas.png)"
   ]
  },
  {
   "cell_type": "code",
   "execution_count": null,
   "metadata": {
    "collapsed": true
   },
   "outputs": [],
   "source": [
    "'''\n",
    "**RUN THE FOLLOWING CODE SNIPPET (REPRODUCING RIGHT SIDE COLUMN OF THE ABOVE TABLE )**\n",
    "'''\n",
    "\n",
    "import pandas as pd\n",
    "import numpy as np \n",
    "df = pd.DataFrame(columns=['c','f'])\n",
    "\n",
    "df ['c']=[1, 2, 3, 4, 5, 1, 2, 3, 4, 5]\n",
    "df ['f']=[3.1, 3.2, 3.3, 3.4, 3.5, 3.6,3.7, 3.8, 3.9, 4.0]\n",
    "\n",
    "def get_StructArray(df,dtypes):\n",
    "#*** inputs: df, [dtypes], output: structured Numpy array ***\n",
    "    dataList = []\n",
    "    for idx in range(df.shape[0]):\n",
    "        dataList.append(tuple(df.loc[idx]))\n",
    "    decDtype = list(zip(df.columns.tolist(),dtypes))\n",
    "    array =  np.array(dataList,dtype = decDtype)\n",
    "    return array\n",
    " \n",
    "array = get_StructArray(df, [np.intc,np.float64] )\n",
    "\n",
    "from daal.data_management import AOSNumericTable\n",
    "\n",
    "nT  = AOSNumericTable(array)\n",
    "print(nT)"
   ]
  },
  {
   "cell_type": "markdown",
   "metadata": {},
   "source": [
    "##### iii Data load and numeric table creation through CSV file:\n",
    "![title](./_notebook-related-files/AOS_CSV.png)"
   ]
  },
  {
   "cell_type": "code",
   "execution_count": null,
   "metadata": {
    "collapsed": true
   },
   "outputs": [],
   "source": [
    "'''\n",
    "**RUN THE FOLLOWING CODE SNIPPET (REPRODUCING RIGHT SIDE COLUMN OF THE ABOVE TABLE )**\n",
    "'''\n",
    "\n",
    "import numpy as np\n",
    "\n",
    "from daal.data_management import (FileDataSource, AOSNumericTable, DataSource) \n",
    "\n",
    "dataSource = FileDataSource(\n",
    "    r’path’, DataSource.notAllocateNumericTable, DataSource.doDictionaryFromContext)\n",
    "\n",
    "\n",
    "array = np.empty([10,],dtype=[('x','i4'),\n",
    "                             ('y','f8')])\n",
    "nT = AOSNumericTable(array)\n",
    "\n",
    "dataSource.loadDataBlock(10,nT)\n",
    "\n"
   ]
  },
  {
   "cell_type": "markdown",
   "metadata": {},
   "source": [
    "#### c.\tSOANumericTable (Structure of Arrays data structure): <br>\n",
    "\n",
    "<div  style=\"text-align: justify\">If desired data access is along column major and input data features have heterogeneous dtypes, Intel DAAL’s AOSNumericTable provides corresponding memory pattern for faster access. It does so by allocating contiguous memory along “features”. This data structure is a more natural conversion for pandas DataFrame, as pandas stores data in a similar pattern in memory.\n",
    "In contrast to Intel DAAL’s AOSNumericTable, which can be populated with array values at initialization, SOANumericTable requires the number of rows and columns to be defined first (allocating a contiguous block) at initialization, followed by setting array values one column at a time. In other words, a practitioner must create a SOANumericTable structure with proper data dimensions, then subsequently fill the table with data.\n",
    "Below are code snippets to illustrate creation of SOANumericTable table using Numpy Array, Pandas and FileDataSource class of PyDAAL.</div>\n",
    "\n",
    "##### i.\tData load and numeric table creation through Numpy Array:\n",
    "![title](./_notebook-related-files/SOA_Array.png)\n"
   ]
  },
  {
   "cell_type": "code",
   "execution_count": null,
   "metadata": {
    "collapsed": true
   },
   "outputs": [],
   "source": [
    "'''\n",
    "RUN THE CODE SNIPPET BELOW (CODE SNIPPET FROM RIGHT SIDE COLUMN OF THE ABOVE TABLE )\n",
    "'''\n",
    "\n",
    "import numpy as np\n",
    "\n",
    "from daal.data_management import SOANumericTable \n",
    "\n",
    "Col1 = np.array([1.0, 1.2, 1.4, 1.6, 1.8, 2.0, 2.2, 2.4, 2.6,2.8],dtype=np.float64)\n",
    "Col2 = np.array([3.1, 3.2, 3.3, 3.4, 3.5, 3.6, 3.7, 3.8, 3.9, 4.0],dtype=np.float32)\n",
    "Col3 = np.array([-10, -20, -30, -40, -50, -60, -70, -80, -90, -100],dtype=np.intc)\n",
    "nObservations = 10\n",
    "nFeatures = 4 \n",
    "nT  = SOANumericTable(nFeatures, nObservations)\n",
    "\n",
    "\n",
    "nT.setArray(Col1, 0)\n",
    "nT.setArray(Col2, 1)\n",
    "nT.setArray(Col3, 2)\n",
    "\n",
    "print(nT)\n"
   ]
  },
  {
   "cell_type": "markdown",
   "metadata": {},
   "source": [
    "##### ii.\tData load and numeric table creation through Pandas DataFrame:\n",
    "![title](./_notebook-related-files/SOA_Pandas.png)\n",
    "\n",
    "<div  style=\"text-align: justify\">*Note: Note: SOA nT can also be initialized without number of rows and columns and could be set at a later stage using methods setNumberOfRows(N) and setNumberOfColumns(N). However, setting the number of rows and columns to an existing SOA nT having values in it would recreate an empty SOA nT, deleting its previous values.*</div>"
   ]
  },
  {
   "cell_type": "code",
   "execution_count": null,
   "metadata": {
    "collapsed": true
   },
   "outputs": [],
   "source": [
    "'''\n",
    "**RUN THE FOLLOWING CODE SNIPPET (REPRODUCING RIGHT SIDE COLUMN OF THE ABOVE TABLE )**\n",
    "'''\n",
    "\n",
    "import pandas as pd\n",
    "import numpy as np\n",
    "\n",
    "#Initialize the columns with values\n",
    "from daal.data_management import SOANumericTable\n",
    "\n",
    "df = pd.DataFrame()\n",
    "\n",
    "df['a']=[1, 2, 3, 4, 5, 1, 2, 3, 4, 5]\n",
    "df['b']=[3.1, 3.2, 3.3, 3.4, 3.5, 3.6, 3.7, 3.8, 3.9, 4.0]\n",
    "df['c']=[1.0, 1.2, 1.4, 1.6, 1.8, 2.0, 2.2,2.4, 2.6, 2.8]\n",
    "\n",
    "df = df.astype(dtype={'a' : np.intc, \n",
    "                      'b' : np.float32,                          \n",
    "                      'c' : np.float64})\n",
    "\n",
    "nT  = SOANumericTable(df.shape[1],df.shape[0])\n",
    "\n",
    "for idx in range(len(df.columns)):\n",
    "        nT.setArray(df[df.columns[idx]].values,idx)\n",
    "\n",
    "print(nT)"
   ]
  },
  {
   "cell_type": "markdown",
   "metadata": {},
   "source": [
    "\n",
    "\n",
    "\n"
   ]
  },
  {
   "cell_type": "markdown",
   "metadata": {},
   "source": [
    "##### iii.\tData load and numeric table creation through CSV file:\n",
    "\n",
    "![title](./_notebook-related-files/SOA_CSV.png)"
   ]
  },
  {
   "cell_type": "code",
   "execution_count": null,
   "metadata": {
    "collapsed": true
   },
   "outputs": [],
   "source": [
    "'''\n",
    "**RUN THE FOLLOWING CODE SNIPPET (REPRODUCING RIGHT SIDE COLUMN OF THE ABOVE TABLE )**\n",
    "'''\n",
    "\n",
    "from daal.data_management import(FileDataSource,SOANumericTable, DataSource)\n",
    "import numpy as np\n",
    "\n",
    "\n",
    "dataSource = FileDataSource(\n",
    "    r'./_notebook-related-files\\SampleSOABatchFile.csv', DataSource.notAllocateNumericTable,\n",
    "    DataSource.doDictionaryFromContext)\n",
    "\n",
    "#if data source has 2 columns\n",
    "\n",
    "Col1_array = np.empty([10,],dtype=np.float64)\n",
    "Col2_array = np.empty([10,],dtype=np.float64)\n",
    "\n",
    "nT  = SOANumericTable(2,10)\n",
    "\n",
    "nT.setArray(Col1_array,0)\n",
    "nT.setArray(Col2_array,1)\n",
    "dataSource.loadDataBlock(10,nT)\n"
   ]
  },
  {
   "cell_type": "markdown",
   "metadata": {},
   "source": [
    "### 2.3.3 Homogeneous Memory saving Numeric Table and different ways of loading data:\n",
    "\n",
    "<div  style=\"text-align: justify\">As discussed in the Homogeneous Section of this document on Homogeneous nT, memory allocation is one contiguous block across every observation holding values with same data type. Homogeneous memory saving nT presents special classes to optimally store values with more efficient and reduced memory footprint when input data (matrix/numpy array) is sparse/ close to sparse.\n",
    "Homogeneous memory saving nT offers classes with special data layout to represent packed matrix and condensed spare row matrix. Memory saving numeric table stores matrix that are sparse/ close to sparse/ symmetrical by eliminating memory footprint inefficiencies, yet retaining their primitive data layout.  Values in numeric table are stored in memory to accommodate entries based on any one of the matrix types discussed in our subsequent section.<br></div>\n",
    "\n",
    "\n",
    "![title](./_notebook-related-files/SymmetricTriangular.png)\n",
    "\n",
    "\n",
    "\n"
   ]
  },
  {
   "cell_type": "markdown",
   "metadata": {},
   "source": [
    "\n",
    "Homogeneous Memory saving Numeric Table presents classes to handle 3 types matrix.<br>\n",
    "\n",
    "#### Symmetric and Triangular Numeric Table\n",
    "\n",
    "1.  **Symmetric Matrix:** Matrix where upper/lower values of the diagonal are symmetry. As values of both upper and lower positions to matrix diagonal are symmetrical, and saving entire matrix seem near duplication. Memory saving numeric table provides options to save either upper/lower part of the diagonal to reduce redundant storage and memory footprint. Numeric Tables store incoming symmetric matrix to project upper/lower packed symmetric matrix depending on layout user prefers.\n",
    "\n",
    "2.\t**Triangular Matrix:** Matrix where upper/lower values to the diagonal are 0. While creating a regular Homogeneous numeric table, saving zeroes lower/upper to diagonal is not an efficient use of memory. Packed triangular matrix numeric table helps to reduce memory footprint by storing values upper/lower to diagonal depending on the type of triangular matrix. Numeric tables store incoming packed triangular matrix allowing upper/lower triangular matrix representation.\n",
    "\n",
    "Below are code snippets to illustrate creation of Packed Triangular Matrix and Packed Symmetric Matrix table using *Numpy Array*, *Pandas* and *FileDataSource* class of PyDAAL.</div>\n",
    "\n",
    "##### i.\tData load and Numeric Table Creation through Numpy Array:\n",
    "\n",
    "![title](./_notebook-related-files/SymTri_Array.png)\n"
   ]
  },
  {
   "cell_type": "code",
   "execution_count": 4,
   "metadata": {
    "collapsed": true
   },
   "outputs": [],
   "source": [
    "'''\n",
    "**RUN THE FOLLOWING CODE SNIPPET (REPRODUCING RIGHT SIDE COLUMN OF THE ABOVE TABLE )**\n",
    "'''\n",
    "\n",
    "from daal.data_management import PackedTriangularMatrix,PackedSymmetricMatrix, NumericTableIface\n",
    "import numpy as np\n",
    "from utils import printArray\n",
    "array = np.array([1,2,3,4,5,6,7,8,9,10], dtype=np.intc)\n",
    "\n",
    "\n",
    "nT_LowerPTM = PackedTriangularMatrix( NumericTableIface.lowerPackedTriangularMatrix, array, DataType = np.intc)\n",
    "nT_UpperPTM = PackedTriangularMatrix( NumericTableIface.upperPackedTriangularMatrix, array, DataType = np.intc)\n",
    "\n",
    "\n",
    "nT_LowerPSM = PackedSymmetricMatrix( NumericTableIface.lowerPackedSymmetricMatrix, array, DataType = np.intc)\n",
    "nT_UpperPSM = PackedSymmetricMatrix( NumericTableIface.upperPackedSymmetricMatrix, array, DataType = np.intc)\n"
   ]
  },
  {
   "cell_type": "markdown",
   "metadata": {},
   "source": [
    "##### ii.\tData load and numeric table creation through Pandas DataFrame:\n",
    "\n",
    "![title](./_notebook-related-files/SymTri_Pandas.png)"
   ]
  },
  {
   "cell_type": "code",
   "execution_count": 5,
   "metadata": {
    "collapsed": true
   },
   "outputs": [],
   "source": [
    "'''\n",
    "**RUN THE FOLLOWING CODE SNIPPET (REPRODUCING RIGHT SIDE COLUMN OF THE ABOVE TABLE )**\n",
    "'''\n",
    "\n",
    "from daal.data_management import PackedTriangularMatrix,PackedSymmetricMatrix, NumericTableIface\n",
    "import numpy as np\n",
    "import pandas as pd\n",
    "\n",
    "\n",
    "df= pd.DataFrame([1,2,3,4,5,6,7,8,9,0],\n",
    "                dtype= np.intc)\n",
    "\n",
    "\n",
    "array = df.values.ravel()\n",
    "\n",
    "nT_LowerPTM = PackedTriangularMatrix( NumericTableIface.lowerPackedTriangularMatrix, array, DataType = np.intc)\n",
    "nT_UpperPTM = PackedTriangularMatrix( NumericTableIface.upperPackedTriangularMatrix, array, DataType = np.intc)\n",
    "\n",
    "nT_LowerPSM = PackedSymmetricMatrix( NumericTableIface.lowerPackedSymmetricMatrix, array, DataType = np.intc)\n",
    "nT_UpperPSM = PackedSymmetricMatrix( NumericTableIface.upperPackedSymmetricMatrix, array, DataType = np.intc)\n"
   ]
  },
  {
   "cell_type": "markdown",
   "metadata": {},
   "source": [
    "#### b.\tCondensed Sparse Row Numeric Table<br>\n",
    "\n",
    "<div  style=\"text-align: justify\">Given that basic Homogeneous Numeric Table allocates contiguous memory locations to save matrix data, CSRNumeric table, another memory saving numeric table stores values of an array with reduced memory footprint, also retaining sparse matrix data format.\n",
    "Intel DAAL offers the CSRNumericTable class for a special version of a homogeneous numeric table that encodes sparse data (data with a significant number of zero elements). The library uses Condensed Sparse Row (CSR) format for encoding:<br></div>\n",
    "\n",
    "![title](./_notebook-related-files/CSR_Matrix.png)\n",
    "\n",
    "Prior to creating CSRNumeric Table, the typical sparse matrix “M” is represented by three 1D arrays as follows:<br>\n",
    "•\tValues: The array values contain non-zero elements of input matrix row-by-row.<br>\n",
    "•\tColumns: The j-th element of the array columns encodes the column index in matrix M for j-th element of array values.<br>\n",
    "•\tRowIndex: The i-th element of array rowIndex encodes index in array values corresponding to the first non-zero element in rows indexed i or greater. The last element in the array rowIndex encodes the number of non-zero elements in the matrix M.<br>\n",
    "The CSRNumeric Table created utilizing the 3 arrays mentioned above delivers a numeric table having sparse data format without having to feed a typical sparse data with zeroes. This way of representation allows faster row access as row indices are compressed\n",
    "Below are the code snippets used to better understand creation of numeric table using *Numpy Array* and *Pandas* </div>\n",
    "\n",
    "##### i.\tData load and numeric table creation Through Numpy Array:\n",
    "\n",
    "![title](./_notebook-related-files/CSR_Array.png)"
   ]
  },
  {
   "cell_type": "code",
   "execution_count": 6,
   "metadata": {
    "collapsed": true
   },
   "outputs": [],
   "source": [
    "'''\n",
    "**RUN THE FOLLOWING CODE SNIPPET (REPRODUCING RIGHT SIDE COLUMN OF THE ABOVE TABLE )**\n",
    "'''\n",
    "\n",
    "import numpy as np\n",
    "### import Available Modules for CSRNumericTable###\n",
    "from daal.data_management import CSRNumericTable\n",
    "# Non zero elements of the matrix\n",
    "values = np.array([1, -1, -3, -2, 5, 4, 6, 4,  -4, 2, 7,8, -5], \n",
    "                  dtype=np.intc)\n",
    "# Column indices \"colIndices\" corresponding to each element in \"values\" array\n",
    "colIndices = np.array([1, 2, 4, 1, 2, 3, 4, 5, 1, 3, 4,2, 5], \n",
    "                      dtype=np.uint64)\n",
    "# Row offsets for every first non zero element encountered in each row\n",
    "rowOffsets = np.array([1,4,6,9,2,14], \n",
    "                      dtype=np.uint64)\n",
    "# Creation of CSR numeric table with the arguments dicussed above\n",
    "\n",
    "nObservations = 5 # Number of rows in the numpy array\n",
    "nFeatures = 5# Number of columns in numpy array\n",
    "\n",
    "CSR_nT = CSRNumericTable(values, colIndices, rowOffsets, nFeatures, nObservations)\n"
   ]
  },
  {
   "cell_type": "markdown",
   "metadata": {},
   "source": [
    "##### ii.\tData load and numeric table creation through Pandas DataFrame:\n",
    "\n",
    "![title](./_notebook-related-files/CSR_Pandas.png)"
   ]
  },
  {
   "cell_type": "code",
   "execution_count": 9,
   "metadata": {
    "collapsed": true
   },
   "outputs": [],
   "source": [
    "'''\n",
    "**RUN THE FOLLOWING CODE SNIPPET (REPRODUCING RIGHT SIDE COLUMN OF THE ABOVE TABLE )**\n",
    "'''\n",
    "\n",
    "import pandas as pd\n",
    "import numpy as np\n",
    "from daal.data_management import CSRNumericTable\n",
    "\n",
    "#Create DataFrames for values, column indices and rowoffsets\n",
    "df_Cols_Values = pd.DataFrame(columns = [\"values\",\"colIndices\"])\n",
    "df_RowOffsets = pd.DataFrame(columns = [\"rowOffsets\"])\n",
    "df_Cols_Values['values'] = [1, -1, -3, -2,  5, 4, 6, 4, -4, 2, 7, 8, -5]\n",
    "# Column indices \"colIndices\" corresponding to each element in \"values\" array\n",
    "df_Cols_Values['colIndices'] =[1, 2, 4, 1, 2, 3, 4, 5,1, 3, 4, 2, 5]\n",
    "# Row offsets for every first non zero element encountered in each row\n",
    "df_RowOffsets['rowOffsets'] = [1, 4, 6, 9, 12,  14]\n",
    "# Creation of CSR numeric table with the arguments dicussed above\n",
    "\n",
    "\n",
    "\n",
    "#Convert df to numpy arrays with PyDaal standard dtypes\n",
    "values= df_Cols_Values['values'].as_matrix().astype(np.intc)\n",
    "colIndices = df_Cols_Values['colIndices'].as_matrix().astype(np.uint64)\n",
    "rowOffsets = df_RowOffsets['rowOffsets'].as_matrix().astype(np.uint64)\n",
    "\n",
    "nObservations = 5 # Number of rows in the numpy array\n",
    "nFeatures = 5# Number of columns in numpy array\n",
    "# Pass the parameters for CSR numeric table creation\n",
    "CSR_nT = CSRNumericTable(values, colIndices, rowOffsets, nFeatures, nObservations)\n"
   ]
  },
  {
   "cell_type": "markdown",
   "metadata": {},
   "source": [
    "## 3.\tConclusion:<br>\n",
    "\n",
    "Intel® DAAL utilizes high performance Intel® Math Kernel Libraries and Intel® Performance Primitives to accelerate data analysis process. The introduced Data Management system, being an integral part of Intel® DAAL, majorly operates on Numeric Table data structures supporting various data types and data layouts. Popular libraries used in the data analysis process like numpy can be easily interfaced with Intel® DAAL to create numeric tables and achieve desired data layout, hence allowing reduced memory footprint and efficient processing.<br>\n",
    "As an extension to this document that explains creation of numeric tables using numpy, pandas and Intel® DAAL’s data source object, the next volume in this “Gentle Introduction to PyDAAL” series (Volume 2 of 3) introduces to numeric table life cycle and basic operations on numeric tables. As part of the data preprocessing stage, numeric tables present a wide range of methods to perform sanity checks, data retrieval or manipulation operations, and serialization with compression techniques. Additionally, this document has introduced a wide range of helper functions to execute common numeric table operations in data processing stages.<br>\n",
    "[Click here](volume-2-basic-operations-on-numeric-tables.ipynb) to view Volume 2 and learn about possible operations on Numeric Table.\n"
   ]
  },
  {
   "cell_type": "markdown",
   "metadata": {
    "collapsed": true
   },
   "source": [
    "## 4.\tOther Related Links:<br>\n",
    "\n",
    "•\t[Gentle Introduction to PyDAAL: Vol 2 of 3 Basic Operations on Numeric Tables](volume-2-basic-operations-on-numeric-tables.ipynb)<br>\n",
    "•\t[Gentle Introduction to PyDAAL: Vol 3 of 3 Analytics Model Building and Deployment](volume-3-analytics-model-building-deployment.ipynb)<br>\n",
    "•\t[Developer Guide for Intel® DAAL](https://software.intel.com/en-us/daal-programming-guide)<br>\n",
    "\n",
    "\n",
    "\n",
    "\n"
   ]
  },
  {
   "cell_type": "markdown",
   "metadata": {
    "collapsed": true
   },
   "source": [
    "## <a id='PackedMatrix'>Appendix</a>\n",
    "\n",
    "### Packed Matrix Numeric Table Initializations:\n",
    "\n",
    "#### Packed Triangular Matrix:\n",
    "\n",
    "•Upper Triangular Matrix\n",
    "\n",
    "    ◦intc:   \n",
    "     PackedTriangularMatrix(packedLayout=NumericTableIface.upperPackedTriangularMatrix, DataType=intc)\n",
    "     PackedTriangularMatrix_UpperPackedTriangularMatrixIntc\n",
    " \n",
    "    ◦float32:\n",
    "     PackedTriangularMatrix(packedLayout=NumericTableIface.upperPackedTriangularMatrix, DataType=float32) \n",
    "     PackedTriangularMatrix_UpperPackedTriangularMatrixFloat32\n",
    " \n",
    "    ◦float64:\n",
    "     PackedTriangularMatrix(packedLayout=NumericTableIface.upperPackedTriangularMatrix, DataType=float64)\n",
    "     PackedTriangularMatrix_UpperPackedTriangularMatrixFloat64\n",
    " \n",
    "\n",
    "•Lower Triangular Matrix\n",
    "\n",
    "    ◦intc:\n",
    "     PackedTriangularMatrix(packedLayout=NumericTableIface.lowerPackedTriangularMatrix, DataType=intc)\n",
    "     PackedTriangularMatrix_LowerPackedTriangularMatrixIntc\n",
    " \n",
    "    ◦float32:\n",
    "     PackedTriangularMatrix(packedLayout=NumericTableIface.lowerPackedTriangularMatrix, DataType=float32)\n",
    "     PackedTriangularMatrix_LowerPackedTriangularMatrixFloat32\n",
    " \n",
    "    ◦float64:\n",
    "     PackedTriangularMatrix(packedLayout=NumericTableIface.lowerPackedTriangularMatrix, DataType=float64)\n",
    "     PackedTriangularMatrix_LowerPackedTriangularMatrixFloat64\n",
    "\n",
    "\n",
    "#### Packed Symmetric Matrix:\n",
    "\n",
    "•Upper Symmetric Matrix\n",
    "\n",
    "    ◦intc:\n",
    "     PackedSymmetricMatrix(packedLayout=NumericTableIface.upperPackedSymmetricMatrix, DataType=intc)\n",
    "     PackedSymmetricMatrix_UpperPackedSymmetricMatrixIntc\n",
    " \n",
    "    ◦float32:\n",
    "     PackedSymmetricMatrix(packedLayout=NumericTableIface.upperPackedSymmetricMatrix, DataType=float32)\n",
    "     PackedSymmetricMatrix_UpperPackedSymmetricMatrixFloat32\n",
    "\n",
    "    ◦float64:\n",
    "     PackedSymmetricMatrix(packedLayout=NumericTableIface.upperPackedSymmetricMatrix, DataType=float64)\n",
    "     PackedSymmetricMatrix_UpperPackedSymmetricMatrixFloat64\n",
    "\n",
    "•Lower Symmetric Matrix\n",
    "\n",
    "    ◦intc:\n",
    "     PackedSymmetricMatrix(packedLayout=NumericTableIface.lowerPackedSymmetricMatrix, DataType=intc)\n",
    "     PackedSymmetricMatrix_LowerPackedSymmetricMatrixIntc\n",
    "\n",
    "    ◦float32:\n",
    "     PackedSymmetricMatrix(packedLayout=NumericTableIface.lowerPackedSymmetricMatrix, DataType=float32)\n",
    "     PackedSymmetricMatrix_LowerPackedSymmetricMatrixFloat32\n",
    "\n",
    "    ◦float64:\n",
    "     PackedSymmetricMatrix(packedLayout=NumericTableIface.lowerPackedSymmetricMatrix, DataType=float64)\n",
    "     PackedSymmetricMatrix_LowerPackedSymmetricMatrixFloat64\n",
    "\n"
   ]
  },
  {
   "cell_type": "code",
   "execution_count": null,
   "metadata": {
    "collapsed": true
   },
   "outputs": [],
   "source": []
  }
 ],
 "metadata": {
  "celltoolbar": "Raw Cell Format",
  "kernelspec": {
   "display_name": "Python 3",
   "language": "python",
   "name": "python3"
  },
  "language_info": {
   "codemirror_mode": {
    "name": "ipython",
    "version": 3
   },
   "file_extension": ".py",
   "mimetype": "text/x-python",
   "name": "python",
   "nbconvert_exporter": "python",
   "pygments_lexer": "ipython3",
   "version": "3.6.1"
  }
 },
 "nbformat": 4,
 "nbformat_minor": 2
}
