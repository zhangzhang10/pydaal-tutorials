{
 "cells": [
  {
   "cell_type": "code",
   "execution_count": 3,
   "metadata": {
    "collapsed": true
   },
   "outputs": [],
   "source": [
    "# Boilerplate\n",
    "%matplotlib inline\n",
    "\n",
    "# Intel DAAL related imports\n",
    "from daal.data_management import HomogenNumericTable\n",
    "import sys, os\n",
    "\n",
    "sys.path.append(os.path.realpath('../3-custom-modules'))\n",
    "from customUtils import getArrayFromNT\n",
    "\n",
    "# Import numpy, matplotlib, seaborn\n",
    "import numpy as np\n",
    "import matplotlib\n",
    "import matplotlib.pyplot as plt\n",
    "\n",
    "# Plotting configurations\n",
    "%config InlineBackend.figure_format = 'retina'\n",
    "plt.rcParams[\"figure.figsize\"] = (12, 9)"
   ]
  },
  {
   "cell_type": "markdown",
   "metadata": {},
   "source": [
    "# Data Management in PyDAAL\n",
    "\n",
    "### Tutorial brief\n",
    "As a high performance data analytics library for Python, PyDAAL has a set of data structures specifically designed to be performance oriented, while still versatile enough to accommodate data of different memory layouts. These data structures are centered around `NumericTable`, a generic data type for representing data in memory. In this section, we first learn the general concept of `NumericTable`. We then focus on two most important variants of `NumericTables`: `HomogenNumericTable` for homogenuous dense data, and `CSRNumericTable` for sparse data.\n",
    "\n",
    "It is critical for PyDAAL to be able to work seamlessly with other mathematic and statistical Python packages, such as NumPy, SciPy, Pandas, scikit-learn, etc. These packages are being widely used in the mainstream Python data analytics community. And the goal of PyDAAL is to provide high performance alternatives to some of the algorithms that these popular packages offer. In this section we illustrate, using several simple examples, how PyDAAL can work with the data types in these packages.\n",
    "\n",
    "### Learning objectives\n",
    "* To learn `NumericTable`, the central concepts and main data types for data management in PyDAAL.\n",
    "* To get familar with the `HomogenNumericTable` and the `CSRNumericTable` API.\n",
    "* To see how `NumericTables` interact with data types in NumPy, SciPy, Pandas, etc.\n",
    "\n",
    "### NumericTables\n",
    "A conceptual model about data in data analytics is a 2-dimensional structure with each row being an _observation_ (_sample_), and each column being a _feature_ (_variable_). \n",
    "\n",
    "![](https://software.intel.com/sites/products/documentation/doclib/daal/daal-user-and-reference-guides/daal_prog_guide/GUID-65FAD60A-A92A-460F-B43D-4F8C2C39F662-low.png \"Dataset\")\n",
    "\n",
    "`NumericTables` in DAAL are modeled after this concept. Every algorithm in DAAL takes `NumericTables` as input and produces `NumericTables` as output. There are several kinds of `NumericTables`, for example,\n",
    "* **`HomogenNumericTable`** - This is a type for storing dense data where all featuers are of the same type. Supported types include `int`, `float32`, and `float64`. A `HomogenNuericTable` has the C-contiguous memory layout, that is, rows are laid out in contiguously in memory. It is essentially the same as a 2D matrix.\n",
    "\n",
    "* **`CSRNumericTable`** - This is a type for storing sparse data where all features are of the same type. It is equivalent to a CSR sparse matrix. The CSR format is the most used memory storage format for sparse matrices. `CSRNumericTable` in PyDAAL is compatible with `scipy.sparse.csr_matrix`. \n",
    "![](https://software.intel.com/sites/products/documentation/doclib/daal/daal-user-and-reference-guides/daal_prog_guide/GUID-B89DE139-3E29-41DA-AB45-BB0B655716C3-low.png \"CSR 0-based indexing\")\n",
    "\n",
    "![](https://software.intel.com/sites/products/documentation/doclib/daal/daal-user-and-reference-guides/daal_prog_guide/GUID-F488A72A-68BB-4E64-9D46-9C5FFAD0D431-low.png \"CSR 1-based indexing\")\n",
    "\n",
    "* **`AOSNumericTable`** - This table is to represent heterogenuous data, that is,  features (columns) in the table can be of different data types. This table uses the row-majored memory layout, rows are stored in contiguous memory blocks.\n",
    "![](https://software.intel.com/sites/products/documentation/doclib/daal/daal-user-and-reference-guides/daal_prog_guide/GUID-F0B9F856-5C57-4AE0-972E-8E0B70F3BDA4-low.png \"AOSNumericTable\")\n",
    "\n",
    "* **`SOANumericTable`** - Another type of table to represent heterogenuous data. But this one uses the column-majored memory layout.\n",
    "![](https://software.intel.com/sites/products/documentation/doclib/daal/daal-user-and-reference-guides/daal_prog_guide/GUID-02052873-BCB8-44CD-A506-7270567D79F7-low.png \"SOANumericTable\")\n",
    "\n",
    "After discussions of concepts, we are now interested in putting `NumericTables` into action. In particular, we are interested in learning how to interact with the data types of other Python numeric packages. The following examples use `HomogenNumericTable` or `CSRNumericTable`. But the principles carry over to other types of `NumericTable`. \n",
    "\n",
    "### Interoperability with NumPy ndarrays\n",
    "NumPy ndarray is the common denominator in many numeric packages. SciPy, Pandas, scikit-learn, and plotting tools such as matplotlib can either work directly with ndarrays, or have data types built on top of ndarrays. The code below shows how to easily convert an ndarray to a `HomogenNumericTable`. It's worth to stress that \n",
    "\n",
    "<p style=\"color:red\"><strong>This works only if the ndarray is C-contiguous</strong></p>"
   ]
  },
  {
   "cell_type": "code",
   "execution_count": null,
   "metadata": {
    "collapsed": true
   },
   "outputs": [],
   "source": [
    "import numpy as np\n",
    "from daal.data_management import HomogenNumericTable\n",
    "\n",
    "# The reshape is necessary because HomogenNumericTable constructor only takes array with fully defined dimensions. \n",
    "x = np.array([1., 2., 3., 4., 5., 6.]).reshape(1, 6)\n",
    "x_nt = HomogenNumericTable(x)\n",
    "print(x_nt.getNumberOfRows(), x_nt.getNumberOfColumns())\n",
    "\n",
    "y_nt = HomogenNumericTable(x.reshape(6, 1))\n",
    "print(y_nt.getNumberOfRows(), y_nt.getNumberOfColumns())\n",
    "\n",
    "z_nt = HomogenNumericTable(x.reshape(2, 3))\n",
    "print(z_nt.getNumberOfRows(), z_nt.getNumberOfColumns())\n",
    "\n",
    "s = x.reshape(2, 3)\n",
    "s_slice = s[:, :-1]\n",
    "print(s_slice.flags['C'])\n",
    "\n",
    "# DON'T DO THIS. s_slice is not C-contiguous!\n",
    "# bad_nt = HomogenNumericTable(s_slice)"
   ]
  },
  {
   "cell_type": "markdown",
   "metadata": {},
   "source": [
    "Going from a HomogenNumericTable to an ndarray is also possible, see below. The operation is so common that we've defined a function `getArrayFromNT` in [customUtils](../3-custom-modules/customUtils/__init__.py) based on the same logic. You can use this function for the rest of the lab."
   ]
  },
  {
   "cell_type": "code",
   "execution_count": null,
   "metadata": {
    "collapsed": true
   },
   "outputs": [],
   "source": [
    "from daal.data_management import BlockDescriptor_Float64, readOnly\n",
    "\n",
    "bd = BlockDescriptor_Float64()\n",
    "z_nt.getBlockOfRows(0, z_nt.getNumberOfRows(), readOnly, bd)\n",
    "z = bd.getArray()\n",
    "z_nt.releaseBlockOfRows(bd)\n",
    "print(z)"
   ]
  },
  {
   "cell_type": "markdown",
   "metadata": {},
   "source": [
    "### Example: Load data from a file\n",
    "We often need to get data from a file, typically a file of the CSV format. It's noteworthy that PyDAAL provides data source connectors that can read data from a CSV file. However, more than often than not, NumPy's `genfromtxt` function just works like a charm. \n",
    "\n",
    "Example below reads the first 5 rows from a data file, and excludes the first column (column index 0)."
   ]
  },
  {
   "cell_type": "code",
   "execution_count": null,
   "metadata": {
    "collapsed": true
   },
   "outputs": [],
   "source": [
    "data = np.genfromtxt('./mldata/wine.data', dtype=np.double, delimiter=',', usecols=list(range(1, 14)), max_rows=5)\n",
    "print(data.flags['C'])\n",
    "data_nt = HomogenNumericTable(data)\n",
    "print(data_nt.getNumberOfRows(), data_nt.getNumberOfColumns())"
   ]
  },
  {
   "cell_type": "markdown",
   "metadata": {},
   "source": [
    "### Example: Pandas DataFrames\n",
    "Pandas DataFrames can be converted to ndarrays, and then to `NumericTables`. We can also go the other direction through ndarrays, see example below. We can import `getArrayFromNT` from [customUtils](../3-custom-modules/customUtils/__init__.py) "
   ]
  },
  {
   "cell_type": "code",
   "execution_count": null,
   "metadata": {
    "collapsed": true
   },
   "outputs": [],
   "source": [
    "import pandas as pd\n",
    "sys.path.append(os.path.realpath('../3-custom-modules'))\n",
    "from customUtils import getArrayFromNT\n",
    "\n",
    "df = pd.DataFrame(np.random.randn(10, 5), columns = ['a', 'b', 'c', 'd', 'e'])\n",
    "array = df.values\n",
    "print(array.flags['C'])\n",
    "print(array.shape)\n",
    "\n",
    "array_nt = HomogenNumericTable(array)\n",
    "print(array_nt.getNumberOfRows(), array_nt.getNumberOfColumns())\n",
    "\n",
    "d = getArrayFromNT(array_nt)\n",
    "df2 = pd.DataFrame(d, columns = ['a', 'b', 'c', 'd', 'e'])\n",
    "print(df2)"
   ]
  },
  {
   "cell_type": "markdown",
   "metadata": {},
   "source": [
    "### Example: scikit-learn datasets\n",
    "Scikit-learn has some functions to load popular datasets on the Internet. These datasets are available through [sklearn.datasets](http://scikit-learn.org/stable/datasets). For example, the [load_digits](http://scikit-learn.org/stable/modules/generated/sklearn.datasets.load_digits.html#sklearn.datasets.load_digits) method loads and returns the digits dataset. Because the dataset internally uses NumPy ndarray to store information, we can convert it to DAAL `NumericTables`, and pass them to DAAL algorithms. \n",
    "\n",
    "Extreme caution must be taken, however, because sometimes the data loaded is not C-contiguous. We need to make it right before constructing a `NumericTable` from the data. The code below shows how it works."
   ]
  },
  {
   "cell_type": "code",
   "execution_count": null,
   "metadata": {
    "collapsed": true
   },
   "outputs": [],
   "source": [
    "from sklearn.datasets import load_digits\n",
    "\n",
    "digits = load_digits()\n",
    "print(digits.data.flags['C'])\n",
    "# digits.data is NOT C-contiguous. We need to make it into the C-contiguous memory layout.\n",
    "data = np.ascontiguousarray(digits.data, dtype = np.double)\n",
    "data_nt = HomogenNumericTable(data[-100:])\n",
    "print(data_nt.getNumberOfRows(), data_nt.getNumberOfColumns())"
   ]
  },
  {
   "cell_type": "markdown",
   "metadata": {},
   "source": [
    "### Example: SciPy sparse matrix\n",
    "The last example illustrates `CSRNumericTable`, which is essentially a sparse matrix of the CSR storeage format. The CSR format uses three 1D arrays to represent a sparse matrix:\n",
    "* `values` - All non-zero values are lumped into a dense array.\n",
    "* `col_ind` - An array of column indices for non-zero values.\n",
    "* `row_offset` - An array whose $i$-th element is the index in the `data` array for the value corresponding to the first non-zero element of the $i$-th row of the matrix. The last element of this array equals to _nnz_, the number of non-zeros.\n",
    "\n",
    "`CSRNumericTable` can be converted to and from [`scipy.sparse.csr_matrix`](http://docs.scipy.org/doc/scipy/reference/generated/scipy.sparse.csr_matrix.html#scipy.sparse.csr_matrix). However, scipy uses 0-based indexing while DAAL uses 1-based indexing. Hence, the values of the two index arrays need to be incrememented before giving them to DAAL. The code below shows how to convert from a SciPy sparse matrix to a `CSRNumericTable`. One peculiar thing to note when constructing a `CSRNumericTable` is that, the indices arrays (`col_ind` and `row_offset`) must be 64-bit integers. "
   ]
  },
  {
   "cell_type": "code",
   "execution_count": null,
   "metadata": {
    "collapsed": true
   },
   "outputs": [],
   "source": [
    "from scipy.sparse import csr_matrix\n",
    "from daal.data_management import CSRNumericTable\n",
    "\n",
    "# First, create a sparse matrix\n",
    "values = np.array([2.0, 6.4, 1.7, 3.1, 2.2, 2.1, 3.8, 5.5])\n",
    "col_ind = np.array([0, 2, 5, 3, 1, 4, 5, 6])\n",
    "row_offset = np.array([0, 3, 4, 4, 6, 8])\n",
    "sp = csr_matrix((values, col_ind, row_offset), dtype=np.double, shape=(5, 7))\n",
    "print(sp.toarray())\n",
    "\n",
    "# Then, create a CSRNumericTable based on the sparse matrix\n",
    "sp_nt = CSRNumericTable(sp.data, sp.indices.astype(np.uint64) + 1, sp.indptr.astype(np.uint64) + 1, 7, 5)\n",
    "print(sp_nt.getNumberOfRows(), sp_nt.getNumberOfColumns())\n",
    "(values, col_ind, row_offset) = sp_nt.getArrays()\n",
    "print(getArrayFromNT(sp_nt))"
   ]
  },
  {
   "cell_type": "markdown",
   "metadata": {},
   "source": [
    "### Summary\n",
    "We learned the central concept of data management in PyDAAL: `NumericTables`. We got a glimpse of 4 types of `NumericTables` supported in DAAL. We practiced basic operations of `HomogenNumericTable` and `CSRNumericTable`, and their interoperability with NumPy, SciPy, Pandas, and scikit-learn."
   ]
  }
 ],
 "metadata": {
  "kernelspec": {
   "display_name": "Python 3",
   "language": "python",
   "name": "python3"
  },
  "language_info": {
   "codemirror_mode": {
    "name": "ipython",
    "version": 3
   },
   "file_extension": ".py",
   "mimetype": "text/x-python",
   "name": "python",
   "nbconvert_exporter": "python",
   "pygments_lexer": "ipython3",
   "version": "3.6.2"
  }
 },
 "nbformat": 4,
 "nbformat_minor": 1
}
